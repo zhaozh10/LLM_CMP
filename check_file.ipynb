{
 "cells": [
  {
   "cell_type": "code",
   "execution_count": 11,
   "metadata": {},
   "outputs": [],
   "source": [
    "import csv\n",
    "import pandas as pd\n",
    "from tqdm import tqdm"
   ]
  },
  {
   "cell_type": "code",
   "execution_count": 4,
   "metadata": {},
   "outputs": [],
   "source": [
    "mimic_en=pd.read_csv('./ImpressionGPT/MIMIC-EN.csv')\n",
    "mimic_zh=pd.read_csv('./ImpressionGPT/MIMIC-ZH.csv')\n",
    "openi_en=pd.read_csv('./ImpressionGPT/Open_I-EN.csv')\n",
    "openi_zh=pd.read_csv('./ImpressionGPT/Open_I-ZH.csv')\n",
    "rad_en=pd.read_csv('./RadQNLI/RadQNLI-EN.csv')\n",
    "rad_zh=pd.read_csv('./RadQNLI/RadQNLI-ZH.csv')\n",
    "DeID=pd.read_csv('./DeID/DeID.csv')"
   ]
  },
  {
   "cell_type": "code",
   "execution_count": 5,
   "metadata": {},
   "outputs": [
    {
     "data": {
      "text/html": [
       "<div>\n",
       "<style scoped>\n",
       "    .dataframe tbody tr th:only-of-type {\n",
       "        vertical-align: middle;\n",
       "    }\n",
       "\n",
       "    .dataframe tbody tr th {\n",
       "        vertical-align: top;\n",
       "    }\n",
       "\n",
       "    .dataframe thead th {\n",
       "        text-align: right;\n",
       "    }\n",
       "</style>\n",
       "<table border=\"1\" class=\"dataframe\">\n",
       "  <thead>\n",
       "    <tr style=\"text-align: right;\">\n",
       "      <th></th>\n",
       "      <th>subject_id</th>\n",
       "      <th>study_id</th>\n",
       "      <th>findings</th>\n",
       "      <th>impression</th>\n",
       "    </tr>\n",
       "  </thead>\n",
       "  <tbody>\n",
       "    <tr>\n",
       "      <th>0</th>\n",
       "      <td>10046166</td>\n",
       "      <td>50051329</td>\n",
       "      <td>Lateral view somewhat limited due to overlying...</td>\n",
       "      <td>No evidence of acute cardiopulmonary process.</td>\n",
       "    </tr>\n",
       "    <tr>\n",
       "      <th>1</th>\n",
       "      <td>10046166</td>\n",
       "      <td>53492798</td>\n",
       "      <td>Frontal and lateral radiographs of the chest r...</td>\n",
       "      <td>No acute cardiopulmonary process.</td>\n",
       "    </tr>\n",
       "    <tr>\n",
       "      <th>2</th>\n",
       "      <td>10046166</td>\n",
       "      <td>57379357</td>\n",
       "      <td>Frontal and lateral views of the chest were ob...</td>\n",
       "      <td>No radiographic findings to suggest pneumonia.</td>\n",
       "    </tr>\n",
       "    <tr>\n",
       "      <th>3</th>\n",
       "      <td>10268877</td>\n",
       "      <td>50239281</td>\n",
       "      <td>Left PICC tip is seen terminating in the regio...</td>\n",
       "      <td>1. Left PICC tip appears to terminate in the d...</td>\n",
       "    </tr>\n",
       "    <tr>\n",
       "      <th>4</th>\n",
       "      <td>10268877</td>\n",
       "      <td>51513702</td>\n",
       "      <td>Single AP portable view of the chest.  No prio...</td>\n",
       "      <td>No definite acute cardiopulmonary process.  En...</td>\n",
       "    </tr>\n",
       "    <tr>\n",
       "      <th>...</th>\n",
       "      <td>...</td>\n",
       "      <td>...</td>\n",
       "      <td>...</td>\n",
       "      <td>...</td>\n",
       "    </tr>\n",
       "    <tr>\n",
       "      <th>1598</th>\n",
       "      <td>19928916</td>\n",
       "      <td>54375943</td>\n",
       "      <td>Portable AP upright chest radiograph was obtai...</td>\n",
       "      <td>No acute findings in the chest.</td>\n",
       "    </tr>\n",
       "    <tr>\n",
       "      <th>1599</th>\n",
       "      <td>19991135</td>\n",
       "      <td>50286241</td>\n",
       "      <td>PA and lateral chest views have been obtained ...</td>\n",
       "      <td>Progression of postoperative healing, status p...</td>\n",
       "    </tr>\n",
       "    <tr>\n",
       "      <th>1600</th>\n",
       "      <td>19991135</td>\n",
       "      <td>51777681</td>\n",
       "      <td>PA and lateral radiographs of the chest were a...</td>\n",
       "      <td>1.  No significant interval change. 2.  Post-s...</td>\n",
       "    </tr>\n",
       "    <tr>\n",
       "      <th>1601</th>\n",
       "      <td>19991135</td>\n",
       "      <td>54103833</td>\n",
       "      <td>AP single view of the chest has been obtained ...</td>\n",
       "      <td>Stable chest findings as seen on portable foll...</td>\n",
       "    </tr>\n",
       "    <tr>\n",
       "      <th>1602</th>\n",
       "      <td>19991135</td>\n",
       "      <td>54742755</td>\n",
       "      <td>Heart size is borderline enlarged but unchange...</td>\n",
       "      <td>No acute cardiopulmonary abnormality.  Bullous...</td>\n",
       "    </tr>\n",
       "  </tbody>\n",
       "</table>\n",
       "<p>1603 rows × 4 columns</p>\n",
       "</div>"
      ],
      "text/plain": [
       "      subject_id  study_id                                           findings  \\\n",
       "0       10046166  50051329  Lateral view somewhat limited due to overlying...   \n",
       "1       10046166  53492798  Frontal and lateral radiographs of the chest r...   \n",
       "2       10046166  57379357  Frontal and lateral views of the chest were ob...   \n",
       "3       10268877  50239281  Left PICC tip is seen terminating in the regio...   \n",
       "4       10268877  51513702  Single AP portable view of the chest.  No prio...   \n",
       "...          ...       ...                                                ...   \n",
       "1598    19928916  54375943  Portable AP upright chest radiograph was obtai...   \n",
       "1599    19991135  50286241  PA and lateral chest views have been obtained ...   \n",
       "1600    19991135  51777681  PA and lateral radiographs of the chest were a...   \n",
       "1601    19991135  54103833  AP single view of the chest has been obtained ...   \n",
       "1602    19991135  54742755  Heart size is borderline enlarged but unchange...   \n",
       "\n",
       "                                             impression  \n",
       "0         No evidence of acute cardiopulmonary process.  \n",
       "1                     No acute cardiopulmonary process.  \n",
       "2        No radiographic findings to suggest pneumonia.  \n",
       "3     1. Left PICC tip appears to terminate in the d...  \n",
       "4     No definite acute cardiopulmonary process.  En...  \n",
       "...                                                 ...  \n",
       "1598                    No acute findings in the chest.  \n",
       "1599  Progression of postoperative healing, status p...  \n",
       "1600  1.  No significant interval change. 2.  Post-s...  \n",
       "1601  Stable chest findings as seen on portable foll...  \n",
       "1602  No acute cardiopulmonary abnormality.  Bullous...  \n",
       "\n",
       "[1603 rows x 4 columns]"
      ]
     },
     "execution_count": 5,
     "metadata": {},
     "output_type": "execute_result"
    }
   ],
   "source": [
    "mimic_en"
   ]
  },
  {
   "cell_type": "code",
   "execution_count": 14,
   "metadata": {},
   "outputs": [
    {
     "name": "stderr",
     "output_type": "stream",
     "text": [
      "Processing: 100%|██████████| 1603/1603 [00:00<00:00, 14315.61it/s]\n"
     ]
    }
   ],
   "source": [
    "# 遍历每一行\n",
    "res=[]\n",
    "header = ['subject_id', 'study_id', 'findings', 'impression']\n",
    "for index, row in tqdm(mimic_en.iterrows(),total=len(mimic_en), desc='Processing'):\n",
    "    # 提取findings和impression属性\n",
    "    findings = row['findings']\n",
    "    impression = row['impression']\n",
    "    res.append([row['subject_id'],row['study_id'],findings, impression])\n",
    "    \n",
    "    # 处理提取的数据，例如打印输出\n",
    "    # print('---')\n",
    "    # print(f'Findings: {findings}')\n",
    "    # print(f'Impression: {impression}')"
   ]
  },
  {
   "cell_type": "code",
   "execution_count": 10,
   "metadata": {},
   "outputs": [],
   "source": [
    "csv_file='./test.csv'\n",
    "# 打开CSV文件并写入数据\n",
    "with open(csv_file, 'w', newline='') as file:\n",
    "    writer = csv.writer(file)\n",
    "    \n",
    "    # 写入header行\n",
    "    writer.writerow(header)\n",
    "    \n",
    "    # 写入数据行\n",
    "    writer.writerows(res)"
   ]
  },
  {
   "cell_type": "code",
   "execution_count": null,
   "metadata": {},
   "outputs": [],
   "source": []
  }
 ],
 "metadata": {
  "kernelspec": {
   "display_name": "Python 3.10.0 ('win')",
   "language": "python",
   "name": "python3"
  },
  "language_info": {
   "codemirror_mode": {
    "name": "ipython",
    "version": 3
   },
   "file_extension": ".py",
   "mimetype": "text/x-python",
   "name": "python",
   "nbconvert_exporter": "python",
   "pygments_lexer": "ipython3",
   "version": "3.10.0"
  },
  "orig_nbformat": 4,
  "vscode": {
   "interpreter": {
    "hash": "b5cef9e316da9150d3f0b1939142a26be4f3c14e7e05c1f9ef8b5345ea6f4817"
   }
  }
 },
 "nbformat": 4,
 "nbformat_minor": 2
}
